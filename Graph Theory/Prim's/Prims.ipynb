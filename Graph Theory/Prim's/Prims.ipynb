{
 "cells": [
  {
   "cell_type": "markdown",
   "metadata": {},
   "source": [
    "## Prim's Algorithm \n"
   ]
  },
  {
   "cell_type": "markdown",
   "metadata": {},
   "source": [
    "- input from **graph.txt** file.\n",
    "- Representation - **ADJACNECY MATRIX**.\n",
    "- Task - **Finding MST using Prim's Algorithm**."
   ]
  },
  {
   "cell_type": "code",
   "execution_count": 15,
   "metadata": {},
   "outputs": [
    {
     "name": "stdout",
     "output_type": "stream",
     "text": [
      "Start : 0  End : 1 Weight: 5\n",
      "Start : 0  End : 2 Weight: 4\n",
      "Start : 0  End : 3 Weight: 2\n",
      "Start : 1  End : 2 Weight: 3\n",
      "Start : 3  End : 4 Weight: 1\n",
      "\n",
      "Adjacency Matrix is :\n",
      "[[0. 5. 4. 2. 0.]\n",
      " [5. 0. 3. 0. 0.]\n",
      " [4. 3. 0. 0. 0.]\n",
      " [2. 0. 0. 0. 1.]\n",
      " [0. 0. 0. 1. 0.]] \n",
      "\n",
      "Calculating\n",
      "........\n",
      "Distances: {0: 1e+18, 1: 5.0, 2: 4.0, 3: 2.0, 4: 1e+18}\n",
      "Parents: {0: -1, 1: 0, 2: 0, 3: 0, 4: -1}\n",
      "Current : 3\n",
      "4  is updated\n",
      "Distances: {0: 1e+18, 1: 5.0, 2: 4.0, 3: 2.0, 4: 1.0}\n",
      "Parents: {0: -1, 1: 0, 2: 0, 3: 0, 4: 3}\n",
      "Current : 4\n",
      "Current : 2\n",
      "1  is updated\n",
      "Distances: {0: 1e+18, 1: 3.0, 2: 4.0, 3: 2.0, 4: 1.0}\n",
      "Parents: {0: -1, 1: 2, 2: 0, 3: 0, 4: 3}\n",
      "Current : 1\n",
      "\n",
      "The Minimum spanning tree is :\n"
     ]
    },
    {
     "data": {
      "text/plain": [
       "([(3, 0, 2.0), (4, 3, 1.0), (2, 0, 4.0), (1, 2, 3.0)], 10.0)"
      ]
     },
     "execution_count": 15,
     "metadata": {},
     "output_type": "execute_result"
    }
   ],
   "source": [
    "try:\n",
    "    graph = open(\"D:\\III semester\\Algorithms\\Assignment 4\\graph.txt\",'r+')\n",
    "except:\n",
    "    print(\"File is not opening correctly, re-check path or filename\")\n",
    "\n",
    "import time as time\n",
    "import numpy as np\n",
    "def make_adj(nodes):\n",
    "    '''To make an adjacency matrix'''\n",
    "    mat = np.zeros((nodes,nodes))\n",
    "    return np.matrix(mat)\n",
    "\n",
    "for row in graph:\n",
    "    if(len(row)==2):\n",
    "        nodes = int(row[0])\n",
    "        adj = make_adj(nodes)\n",
    "    else:\n",
    "        w = int(row[4])\n",
    "        u = int(ord(row[0]) - 65)\n",
    "        v = int(ord(row[2]) - 65)\n",
    "        adj[u,v] = w\n",
    "        adj[v,u] = w\n",
    "        print(\"Start :\",u,\" End :\",v,\"Weight:\",w)\n",
    "graph.seek(0)\n",
    "print(\"\\nAdjacency Matrix is :\")\n",
    "print(adj,\"\\n\")\n",
    "print(\"Calculating\")\n",
    "for i in range(10):\n",
    "    print(\".\",end=\"\")\n",
    "    time.sleep(0.1)\n",
    "    print(\".\",end=\"\")\n",
    "    time.sleep(0.1)\n",
    "    print(\".\",end=\"\")\n",
    "    #print(\"\\r\",end=\"\")\n",
    "    print(\"\\r\\r\\r\",end=\"\")\n",
    "print(\"\\r\")  \n",
    "time.sleep(3)\n",
    "# Minimum vertex finding\n",
    "def find_min(dist,visited):\n",
    "    mini = 1e18\n",
    "    for i in dist:\n",
    "        if(visited[i]==False):\n",
    "            if(dist[i]<mini and dist[i]>0):\n",
    "                ind = i\n",
    "                mini = dist[i]\n",
    "    return ind\n",
    "# function for Prim's\n",
    "def prims(adj):\n",
    "    '''Parameters: adj-> Adjacency Mtatrix for the graph\n",
    "       Variables: total-> Total weight of MST\n",
    "                  parent-> Dictionary storing parents of each node\n",
    "                  visit-> boolean array to store which vertex has been included\n",
    "                          in the MST\n",
    "                  MST-> The minimum spanning tree of the graph containing a tuple\n",
    "                          Source - Destination - Weight\n",
    "       Returns : A tuple of total and MST'''\n",
    "    total = 0\n",
    "    parent = {}\n",
    "    d = {}\n",
    "    visit = []# has zero based indexing\n",
    "    for i in range(len(adj)):\n",
    "        visit.append(False)\n",
    "        parent[i] = -1\n",
    "        d[i] = 1e18\n",
    "    MST = []\n",
    "    visit[0] = True\n",
    "    # Updating for the starting node\n",
    "    for i in range(1,len(adj)):# skipping i = 0\n",
    "        if(adj[0,i]!=0):\n",
    "            parent[i] = 0\n",
    "            d[i] = adj[0,i]\n",
    "    print(\"Distances:\",d)\n",
    "    print(\"Parents:\",parent)\n",
    "    for i in range(1,len(adj)):\n",
    "        u = find_min(d,visit) # u is zero based\n",
    "        print(\"Current :\",u)\n",
    "        # u is the vertex which is minimum and not visited yet.\n",
    "        visit[u] = True\n",
    "        MST.append((u,parent[u],d[u]))\n",
    "        total+= d[u]\n",
    "        for k in range(len(adj)):\n",
    "            if(visit[k]==False and d[k] > adj[u,k] and adj[u,k]>0):\n",
    "                d[k] = adj[u,k]\n",
    "                parent[k] = u\n",
    "                print(k,\" is updated\")\n",
    "                print(\"Distances:\",d)\n",
    "                print(\"Parents:\",parent)\n",
    "    print(\"\\nThe Minimum spanning tree is :\")\n",
    "    return MST,total\n",
    "\n",
    "\n",
    "prims(adj)"
   ]
  },
  {
   "cell_type": "code",
   "execution_count": null,
   "metadata": {},
   "outputs": [],
   "source": []
  },
  {
   "cell_type": "code",
   "execution_count": null,
   "metadata": {},
   "outputs": [],
   "source": []
  }
 ],
 "metadata": {
  "kernelspec": {
   "display_name": "Python 3",
   "language": "python",
   "name": "python3"
  },
  "language_info": {
   "codemirror_mode": {
    "name": "ipython",
    "version": 3
   },
   "file_extension": ".py",
   "mimetype": "text/x-python",
   "name": "python",
   "nbconvert_exporter": "python",
   "pygments_lexer": "ipython3",
   "version": "3.7.4"
  },
  "varInspector": {
   "cols": {
    "lenName": 16,
    "lenType": 16,
    "lenVar": 40
   },
   "kernels_config": {
    "python": {
     "delete_cmd_postfix": "",
     "delete_cmd_prefix": "del ",
     "library": "var_list.py",
     "varRefreshCmd": "print(var_dic_list())"
    },
    "r": {
     "delete_cmd_postfix": ") ",
     "delete_cmd_prefix": "rm(",
     "library": "var_list.r",
     "varRefreshCmd": "cat(var_dic_list()) "
    }
   },
   "types_to_exclude": [
    "module",
    "function",
    "builtin_function_or_method",
    "instance",
    "_Feature"
   ],
   "window_display": false
  }
 },
 "nbformat": 4,
 "nbformat_minor": 2
}
