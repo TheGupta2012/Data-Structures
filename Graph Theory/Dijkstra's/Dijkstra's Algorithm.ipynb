{
 "cells": [
  {
   "cell_type": "markdown",
   "metadata": {},
   "source": [
    "# Dijkstra's Algorithm.\n",
    "- Implementing Dijkstra's algorithm to find the single source shortest path to all vertices given a particular starting vertex s and an adjacency matrix adj for the graph"
   ]
  },
  {
   "cell_type": "code",
   "execution_count": 1,
   "metadata": {},
   "outputs": [],
   "source": [
    "import numpy as np\n",
    "import math\n",
    "import time\n",
    "import functools"
   ]
  },
  {
   "cell_type": "code",
   "execution_count": 2,
   "metadata": {},
   "outputs": [],
   "source": [
    "def make_adj(nodes):\n",
    "    mat = np.zeros((nodes,nodes))\n",
    "    return np.matrix(mat)"
   ]
  },
  {
   "cell_type": "code",
   "execution_count": 3,
   "metadata": {},
   "outputs": [],
   "source": [
    "try:\n",
    "    graph = open(\"D:\\III semester\\Algorithms\\Dijkstra's\\Graph.txt\",'r+')\n",
    "except:\n",
    "    print(\"Can't open file. Try checking name or the path of the file\")"
   ]
  },
  {
   "cell_type": "code",
   "execution_count": 4,
   "metadata": {},
   "outputs": [
    {
     "name": "stdout",
     "output_type": "stream",
     "text": [
      "Reading graph...\n",
      "Start : 0  End : 1  Weight : 10\n",
      "Start : 0  End : 2  Weight : 80\n",
      "Start : 1  End : 2  Weight : 6\n",
      "Start : 1  End : 4  Weight : 20\n",
      "Start : 2  End : 3  Weight : 70\n",
      "Start : 4  End : 5  Weight : 30\n",
      "Start : 4  End : 6  Weight : 10\n",
      "Start : 5  End : 6  Weight : 5\n",
      "Adjacency matrix formed.\n",
      "ADJACENCY MATRIX :\n",
      "\n",
      "[[ 0. 10. 80.  0.  0.  0.  0.]\n",
      " [10.  0.  6.  0. 20.  0.  0.]\n",
      " [80.  6.  0. 70.  0.  0.  0.]\n",
      " [ 0.  0. 70.  0.  0.  0.  0.]\n",
      " [ 0. 20.  0.  0.  0. 30. 10.]\n",
      " [ 0.  0.  0.  0. 30.  0.  5.]\n",
      " [ 0.  0.  0.  0. 10.  5.  0.]]\n"
     ]
    }
   ],
   "source": [
    "print(\"Reading graph...\")\n",
    "time.sleep(0.8)\n",
    "for row in graph:\n",
    "    if(len(row)==2):\n",
    "        nodes = int(row[0])\n",
    "        adj = make_adj(nodes)\n",
    "    else:\n",
    "        data= row.split(',')\n",
    "        u = int(data[0])\n",
    "        v = int(data[1])\n",
    "        w = int(data[2])\n",
    "        print(\"Start :\",u,\" End :\",v,\" Weight :\",w)\n",
    "        time.sleep(0.3)\n",
    "        adj[u,v] = w\n",
    "        adj[v,u] = w\n",
    "graph.seek(0)\n",
    "print(\"Adjacency matrix formed.\\nADJACENCY MATRIX :\\n\")\n",
    "print(adj)\n",
    "    "
   ]
  },
  {
   "cell_type": "code",
   "execution_count": 5,
   "metadata": {},
   "outputs": [],
   "source": [
    "def find_min_vertex(d,visited):\n",
    "    mini = 1e18\n",
    "    for i in range(len(visited)):\n",
    "        if(visited[i]==False):\n",
    "            if(d[i]<mini):\n",
    "                mini = d[i]\n",
    "                ind = i\n",
    "    return ind #zero based\n",
    "\n",
    "\n",
    "def dijkstra(nodes,adj,s):\n",
    "    '''Parameters: nodes-> the total nodes in the graph\n",
    "                    adj-> Adjaceny matrix of the graph\n",
    "                    s-> source vertex.\n",
    "        Return Signature: d-> Distance array (shortest path of all\n",
    "        vertices from s)\n",
    "                         parent-> Parent pointers specifying the path \n",
    "                         which is the shortest'''\n",
    "    d = {}\n",
    "    visited=[]\n",
    "    parent = {}\n",
    "    # Initialisation\n",
    "    for i in range(nodes):\n",
    "        d[i] = 1e18\n",
    "        visited.append(False)\n",
    "        parent[i] = -1\n",
    "    \n",
    "    # set distance of Source as 0\n",
    "    d[s] = 0\n",
    "    total = 0\n",
    "    while(total<nodes):\n",
    "        u = find_min_vertex(d,visited)\n",
    "        # u is the current vertex which is not yet visited and has the minimum\n",
    "        # path amongst all the vertices\n",
    "        visited[u] = True\n",
    "        total +=1\n",
    "        for i in range(nodes):\n",
    "            if(visited[i]== False):\n",
    "                if(adj[u,i]>0 and d[i] > d[u] + adj[u,i]):\n",
    "                    d[i]= d[u] + adj[u,i]\n",
    "                    parent[i] = u\n",
    "                    print(\"Distances updated.\")\n",
    "                    print(\"Array is :\",d)\n",
    "    \n",
    "    return d,parent    \n",
    "    \n",
    "    "
   ]
  },
  {
   "cell_type": "code",
   "execution_count": 6,
   "metadata": {},
   "outputs": [
    {
     "name": "stdout",
     "output_type": "stream",
     "text": [
      "Enter source vertex :6\n",
      "Distances updated.\n",
      "Array is : {0: 1e+18, 1: 1e+18, 2: 1e+18, 3: 1e+18, 4: 10.0, 5: 1e+18, 6: 0}\n",
      "Distances updated.\n",
      "Array is : {0: 1e+18, 1: 1e+18, 2: 1e+18, 3: 1e+18, 4: 10.0, 5: 5.0, 6: 0}\n",
      "Distances updated.\n",
      "Array is : {0: 1e+18, 1: 30.0, 2: 1e+18, 3: 1e+18, 4: 10.0, 5: 5.0, 6: 0}\n",
      "Distances updated.\n",
      "Array is : {0: 40.0, 1: 30.0, 2: 1e+18, 3: 1e+18, 4: 10.0, 5: 5.0, 6: 0}\n",
      "Distances updated.\n",
      "Array is : {0: 40.0, 1: 30.0, 2: 36.0, 3: 1e+18, 4: 10.0, 5: 5.0, 6: 0}\n",
      "Distances updated.\n",
      "Array is : {0: 40.0, 1: 30.0, 2: 36.0, 3: 106.0, 4: 10.0, 5: 5.0, 6: 0}\n"
     ]
    }
   ],
   "source": [
    "while(1):\n",
    "    s = int(input(\"Enter source vertex :\"))\n",
    "    if(s<0 or s>=nodes):\n",
    "        print(\"Invalid vertex. Enter again\")\n",
    "    else:\n",
    "        break\n",
    "dist , parents = dijkstra(nodes,adj,s)"
   ]
  },
  {
   "cell_type": "code",
   "execution_count": 7,
   "metadata": {},
   "outputs": [
    {
     "name": "stdout",
     "output_type": "stream",
     "text": [
      "Distances are : {0: 40.0, 1: 30.0, 2: 36.0, 3: 106.0, 4: 10.0, 5: 5.0, 6: 0}\n",
      "Parent pointers : {0: 1, 1: 4, 2: 1, 3: 2, 4: 6, 5: 6, 6: -1}\n"
     ]
    }
   ],
   "source": [
    "print(\"Distances are :\",dist)\n",
    "print(\"Parent pointers :\",parents)"
   ]
  },
  {
   "cell_type": "code",
   "execution_count": 8,
   "metadata": {},
   "outputs": [
    {
     "name": "stdout",
     "output_type": "stream",
     "text": [
      "Enter vertex to find path:0\n",
      "0 -> 1 -> 4 -> 6 -> "
     ]
    }
   ],
   "source": [
    "while(1):\n",
    "    vertex = int(input(\"Enter vertex to find path:\"))\n",
    "    if(s<0 or s>nodes):\n",
    "        print(\"Invalid vertex. Enter again\")\n",
    "    else:\n",
    "        break\n",
    "i = vertex\n",
    "while(i!=-1):\n",
    "    print(i,\"-> \",end=\"\")\n",
    "    i = parents[i]"
   ]
  },
  {
   "cell_type": "code",
   "execution_count": null,
   "metadata": {},
   "outputs": [],
   "source": []
  }
 ],
 "metadata": {
  "kernelspec": {
   "display_name": "Python 3",
   "language": "python",
   "name": "python3"
  },
  "varInspector": {
   "cols": {
    "lenName": 16,
    "lenType": 16,
    "lenVar": 40
   },
   "kernels_config": {
    "python": {
     "delete_cmd_postfix": "",
     "delete_cmd_prefix": "del ",
     "library": "var_list.py",
     "varRefreshCmd": "print(var_dic_list())"
    },
    "r": {
     "delete_cmd_postfix": ") ",
     "delete_cmd_prefix": "rm(",
     "library": "var_list.r",
     "varRefreshCmd": "cat(var_dic_list()) "
    }
   },
   "types_to_exclude": [
    "module",
    "function",
    "builtin_function_or_method",
    "instance",
    "_Feature"
   ],
   "window_display": false
  }
 },
 "nbformat": 4,
 "nbformat_minor": 2
}
