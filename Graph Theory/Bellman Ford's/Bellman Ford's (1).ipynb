{
 "cells": [
  {
   "cell_type": "markdown",
   "metadata": {},
   "source": [
    "# Bellman Ford's Algorithm\n",
    "- Finding single source shortest paths for a given graph and a vertex s.\n",
    "- Given - A graph file with edges .\n",
    "- It works even for negative edges (**in directed graphs**).\n",
    "- Only condition is that the graph should not contain negative weight cycles as that cycle may act as a vortex to decrease your path infinitely as you try to find the shortest route.\n",
    "- Iterations for the algorithm are equal to number of nodes - 1."
   ]
  },
  {
   "cell_type": "code",
   "execution_count": 1,
   "metadata": {},
   "outputs": [],
   "source": [
    "import numpy as np\n",
    "import math\n",
    "import time"
   ]
  },
  {
   "cell_type": "code",
   "execution_count": 36,
   "metadata": {},
   "outputs": [],
   "source": [
    "graph = open(\"D:\\III semester\\Algorithms\\Bellman Ford's\\Graph.txt\",'r+')"
   ]
  },
  {
   "cell_type": "code",
   "execution_count": 37,
   "metadata": {},
   "outputs": [],
   "source": [
    "def make_adj(nodes):\n",
    "    mat = np.zeros((nodes,nodes))\n",
    "    return (np.matrix(mat))"
   ]
  },
  {
   "cell_type": "code",
   "execution_count": 60,
   "metadata": {},
   "outputs": [
    {
     "name": "stdout",
     "output_type": "stream",
     "text": [
      "Reading graph...\n",
      "Source : 0 Destination : 1 Weight : 10\n",
      "Source : 0 Destination : 7 Weight : 8\n",
      "Source : 1 Destination : 5 Weight : 2\n",
      "Source : 2 Destination : 1 Weight : 1\n",
      "Source : 2 Destination : 3 Weight : 1\n",
      "Source : 3 Destination : 4 Weight : 3\n",
      "Source : 4 Destination : 5 Weight : -1\n",
      "Source : 5 Destination : 2 Weight : -2\n",
      "Source : 6 Destination : 5 Weight : -1\n",
      "Source : 6 Destination : 1 Weight : -4\n",
      "Source : 7 Destination : 6 Weight : 1\n",
      "Adjacency matrix is :\n",
      " [[ 0. 10.  0.  0.  0.  0.  0.  8.]\n",
      " [ 0.  0.  0.  0.  0.  2.  0.  0.]\n",
      " [ 0.  1.  0.  1.  0.  0.  0.  0.]\n",
      " [ 0.  0.  0.  0.  3.  0.  0.  0.]\n",
      " [ 0.  0.  0.  0.  0. -1.  0.  0.]\n",
      " [ 0.  0. -2.  0.  0.  0.  0.  0.]\n",
      " [ 0. -4.  0.  0.  0. -1.  0.  0.]\n",
      " [ 0.  0.  0.  0.  0.  0.  1.  0.]]\n",
      "Adjacency list is :\n",
      " {0: [(1, 10), (7, 8)], 1: [(5, 2)], 2: [(1, 1), (3, 1)], 3: [(4, 3)], 4: [(5, -1)], 5: [(2, -2)], 6: [(5, -1), (1, -4)], 7: [(6, 1)]}\n"
     ]
    }
   ],
   "source": [
    "print(\"Reading graph...\")\n",
    "time.sleep(0.5)\n",
    "adj_list = {}\n",
    "for row in graph:\n",
    "    if(len(row)==2):\n",
    "        nodes = int(row[0])\n",
    "        adj = make_adj(nodes)\n",
    "        for i in range(nodes):\n",
    "            adj_list[i] =[]\n",
    "    else:\n",
    "        data = row.split(\",\")\n",
    "        u = int(data[0])\n",
    "        v = int(data[1])\n",
    "        w = int(data[2])\n",
    "        adj_list[u].append((v,w))\n",
    "        adj[u,v] = w\n",
    "        print(\"Source :\",u,\"Destination :\",v,\"Weight :\",w)\n",
    "        time.sleep(0.4)\n",
    "graph.seek(0)\n",
    "print(\"Adjacency matrix is :\\n\",adj)\n",
    "print(\"Adjacency list is :\\n\",adj_list)"
   ]
  },
  {
   "cell_type": "code",
   "execution_count": 62,
   "metadata": {},
   "outputs": [],
   "source": [
    "def bellman_ford_opt(source,nodes,adj_list):\n",
    "    '''Adjacency list implementation'''\n",
    "    d ={}\n",
    "    parent = {}\n",
    "    for i in range(nodes):\n",
    "        d[i] = 1e18\n",
    "        parent[i] = -1\n",
    "    # now make the distance of the source as zero\n",
    "    d[source] = 0\n",
    "    for i in range(nodes-1):# this is because any shortest path can have at max n-1 edges\n",
    "        for j in range(nodes):# to access the ith vertex\n",
    "            for f in adj_list[j]:# to access the row of that ith vertex\n",
    "                v = f[0]\n",
    "                w = f[1]\n",
    "                d[v] = min(d[v],d[j]+w)\n",
    "                parent[v] = j\n",
    "        print(\"After iteration\",i+1)\n",
    "        print(\"Distances :\",d)\n",
    "        print(\"Parents :\",parent)\n",
    "    return d,parent\n",
    "    "
   ]
  },
  {
   "cell_type": "code",
   "execution_count": 66,
   "metadata": {},
   "outputs": [],
   "source": [
    "def bellman_ford(source,nodes,adj):\n",
    "    '''Adjacency matrix implementation'''\n",
    "    d ={}\n",
    "    parent = {}\n",
    "    for i in range(nodes):\n",
    "        d[i] = 1e18\n",
    "        parent[i] = -1\n",
    "    # now make the distance of the source as zero\n",
    "    \n",
    "    d[source] = 0\n",
    "    for i in range(nodes-1):# this is because any shortest path can have at max n-1 edges\n",
    "        for j in range(nodes):# to access the ith vertex\n",
    "            for f in range(nodes): # to access the row of that ith vertex\n",
    "                if(adj[j,f]!=0):\n",
    "                    d[f] = min(d[f], d[j] + adj[j,f])# j is the parent\n",
    "                    parent[f] = j\n",
    "        print(\"After iteration\",i+1)\n",
    "        print(\"Distances :\",d)\n",
    "        print(\"Parents :\",parent)\n",
    "    return d,parent\n",
    "                "
   ]
  },
  {
   "cell_type": "code",
   "execution_count": 67,
   "metadata": {},
   "outputs": [
    {
     "name": "stdout",
     "output_type": "stream",
     "text": [
      "Enter the source vertex :1\n"
     ]
    }
   ],
   "source": [
    "while(1):\n",
    "    s = int(input(\"Enter the source vertex :\"))\n",
    "    if(s<0 or s>=nodes):\n",
    "        print(\"Invalid vertex. Enter again\")\n",
    "    else:\n",
    "        break"
   ]
  },
  {
   "cell_type": "code",
   "execution_count": 68,
   "metadata": {},
   "outputs": [
    {
     "name": "stdout",
     "output_type": "stream",
     "text": [
      "Wall time: 0 ns\n",
      "After iteration 1\n",
      "Distances : {0: 1e+18, 1: 0, 2: 0.0, 3: 1e+18, 4: 1e+18, 5: 2.0, 6: 1e+18, 7: 1e+18}\n",
      "Parents : {0: -1, 1: 6, 2: 5, 3: 2, 4: 3, 5: 6, 6: 7, 7: 0}\n",
      "After iteration 2\n",
      "Distances : {0: 1e+18, 1: 0, 2: 0.0, 3: 1.0, 4: 4.0, 5: 2.0, 6: 1e+18, 7: 1e+18}\n",
      "Parents : {0: -1, 1: 6, 2: 5, 3: 2, 4: 3, 5: 6, 6: 7, 7: 0}\n",
      "After iteration 3\n",
      "Distances : {0: 1e+18, 1: 0, 2: 0.0, 3: 1.0, 4: 4.0, 5: 2.0, 6: 1e+18, 7: 1e+18}\n",
      "Parents : {0: -1, 1: 6, 2: 5, 3: 2, 4: 3, 5: 6, 6: 7, 7: 0}\n",
      "After iteration 4\n",
      "Distances : {0: 1e+18, 1: 0, 2: 0.0, 3: 1.0, 4: 4.0, 5: 2.0, 6: 1e+18, 7: 1e+18}\n",
      "Parents : {0: -1, 1: 6, 2: 5, 3: 2, 4: 3, 5: 6, 6: 7, 7: 0}\n",
      "After iteration 5\n",
      "Distances : {0: 1e+18, 1: 0, 2: 0.0, 3: 1.0, 4: 4.0, 5: 2.0, 6: 1e+18, 7: 1e+18}\n",
      "Parents : {0: -1, 1: 6, 2: 5, 3: 2, 4: 3, 5: 6, 6: 7, 7: 0}\n",
      "After iteration 6\n",
      "Distances : {0: 1e+18, 1: 0, 2: 0.0, 3: 1.0, 4: 4.0, 5: 2.0, 6: 1e+18, 7: 1e+18}\n",
      "Parents : {0: -1, 1: 6, 2: 5, 3: 2, 4: 3, 5: 6, 6: 7, 7: 0}\n",
      "After iteration 7\n",
      "Distances : {0: 1e+18, 1: 0, 2: 0.0, 3: 1.0, 4: 4.0, 5: 2.0, 6: 1e+18, 7: 1e+18}\n",
      "Parents : {0: -1, 1: 6, 2: 5, 3: 2, 4: 3, 5: 6, 6: 7, 7: 0}\n"
     ]
    }
   ],
   "source": [
    "%time\n",
    "paths, parents = bellman_ford(s,nodes,adj)"
   ]
  },
  {
   "cell_type": "code",
   "execution_count": 69,
   "metadata": {},
   "outputs": [
    {
     "name": "stdout",
     "output_type": "stream",
     "text": [
      "Shortest paths are : {0: 1e+18, 1: 0, 2: 0.0, 3: 1.0, 4: 4.0, 5: 2.0, 6: 1e+18, 7: 1e+18}\n"
     ]
    }
   ],
   "source": [
    "print(\"Shortest paths are :\",paths)"
   ]
  },
  {
   "cell_type": "code",
   "execution_count": 70,
   "metadata": {},
   "outputs": [
    {
     "name": "stdout",
     "output_type": "stream",
     "text": [
      "Wall time: 0 ns\n",
      "After iteration 1\n",
      "Distances : {0: 1e+18, 1: 0, 2: 0, 3: 1e+18, 4: 1e+18, 5: 2, 6: 1e+18, 7: 1e+18}\n",
      "Parents : {0: -1, 1: 6, 2: 5, 3: 2, 4: 3, 5: 6, 6: 7, 7: 0}\n",
      "After iteration 2\n",
      "Distances : {0: 1e+18, 1: 0, 2: 0, 3: 1, 4: 4, 5: 2, 6: 1e+18, 7: 1e+18}\n",
      "Parents : {0: -1, 1: 6, 2: 5, 3: 2, 4: 3, 5: 6, 6: 7, 7: 0}\n",
      "After iteration 3\n",
      "Distances : {0: 1e+18, 1: 0, 2: 0, 3: 1, 4: 4, 5: 2, 6: 1e+18, 7: 1e+18}\n",
      "Parents : {0: -1, 1: 6, 2: 5, 3: 2, 4: 3, 5: 6, 6: 7, 7: 0}\n",
      "After iteration 4\n",
      "Distances : {0: 1e+18, 1: 0, 2: 0, 3: 1, 4: 4, 5: 2, 6: 1e+18, 7: 1e+18}\n",
      "Parents : {0: -1, 1: 6, 2: 5, 3: 2, 4: 3, 5: 6, 6: 7, 7: 0}\n",
      "After iteration 5\n",
      "Distances : {0: 1e+18, 1: 0, 2: 0, 3: 1, 4: 4, 5: 2, 6: 1e+18, 7: 1e+18}\n",
      "Parents : {0: -1, 1: 6, 2: 5, 3: 2, 4: 3, 5: 6, 6: 7, 7: 0}\n",
      "After iteration 6\n",
      "Distances : {0: 1e+18, 1: 0, 2: 0, 3: 1, 4: 4, 5: 2, 6: 1e+18, 7: 1e+18}\n",
      "Parents : {0: -1, 1: 6, 2: 5, 3: 2, 4: 3, 5: 6, 6: 7, 7: 0}\n",
      "After iteration 7\n",
      "Distances : {0: 1e+18, 1: 0, 2: 0, 3: 1, 4: 4, 5: 2, 6: 1e+18, 7: 1e+18}\n",
      "Parents : {0: -1, 1: 6, 2: 5, 3: 2, 4: 3, 5: 6, 6: 7, 7: 0}\n"
     ]
    }
   ],
   "source": [
    "%time\n",
    "dist,par = bellman_ford_opt(s,nodes,adj_list)"
   ]
  },
  {
   "cell_type": "code",
   "execution_count": null,
   "metadata": {},
   "outputs": [],
   "source": []
  }
 ],
 "metadata": {
  "kernelspec": {
   "display_name": "Python 3",
   "language": "python",
   "name": "python3"
  },
  "language_info": {
   "codemirror_mode": {
    "name": "ipython",
    "version": 3
   },
   "file_extension": ".py",
   "mimetype": "text/x-python",
   "name": "python",
   "nbconvert_exporter": "python",
   "pygments_lexer": "ipython3",
   "version": "3.7.4"
  },
  "varInspector": {
   "cols": {
    "lenName": 16,
    "lenType": 16,
    "lenVar": 40
   },
   "kernels_config": {
    "python": {
     "delete_cmd_postfix": "",
     "delete_cmd_prefix": "del ",
     "library": "var_list.py",
     "varRefreshCmd": "print(var_dic_list())"
    },
    "r": {
     "delete_cmd_postfix": ") ",
     "delete_cmd_prefix": "rm(",
     "library": "var_list.r",
     "varRefreshCmd": "cat(var_dic_list()) "
    }
   },
   "types_to_exclude": [
    "module",
    "function",
    "builtin_function_or_method",
    "instance",
    "_Feature"
   ],
   "window_display": false
  }
 },
 "nbformat": 4,
 "nbformat_minor": 2
}
